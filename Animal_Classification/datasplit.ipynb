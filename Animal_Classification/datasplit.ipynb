{
 "cells": [
  {
   "cell_type": "markdown",
   "metadata": {},
   "source": [
    "### **Dataset Summary**\n",
    "- **Total Classes:** `64` (Different animal categories)\n",
    "- **Image Format:** `512x512 PNG`\n",
    "- **Images per Class:** `216`\n",
    "- **Total Images:** `64 × 216 = 13,824`\n",
    "- **Folder Structure:**  \n",
    "\n",
    "### **Recommended Data Split (Large Dataset)**\n",
    "Since you have a good amount of data, a standard **80-10-10 split** works well:\n",
    "| **Split**       | **Percentage** | **Images per Class** | **Total Images** |\n",
    "|----------------|---------------|----------------------|------------------|\n",
    "| **Train**      | 80%           | 172 images/class     | 11,008           |\n",
    "| **Validation** | 10%           | 22 images/class      | 1,408            |\n",
    "| **Test**       | 10%           | 22 images/class      | 1,408            |\n"
   ]
  },
  {
   "cell_type": "code",
   "execution_count": null,
   "metadata": {},
   "outputs": [],
   "source": [
    "import os\n",
    "import shutil\n",
    "import random\n",
    "\n",
    "# Paths\n",
    "dataset_path = \"./Image\"  # Original dataset folder\n",
    "output_path = \"./dataset\"  # New dataset folder (after splitting)\n",
    "\n",
    "# Define split ratios\n",
    "train_ratio = 0.8  # 80% training\n",
    "val_ratio = 0.1    # 10% validation\n",
    "test_ratio = 0.1   # 10% testing\n",
    "\n",
    "# Create train, val, and test directories\n",
    "for split in [\"train\", \"val\", \"test\"]:\n",
    "    os.makedirs(os.path.join(output_path, split), exist_ok=True)\n",
    "\n",
    "# Loop through each class folder\n",
    "for category in os.listdir(dataset_path):\n",
    "    category_path = os.path.join(dataset_path, category)\n",
    "    \n",
    "    if os.path.isdir(category_path):\n",
    "        images = os.listdir(category_path)\n",
    "        random.shuffle(images)  # Shuffle images before splitting\n",
    "\n",
    "        train_split = int(train_ratio * len(images))\n",
    "        val_split = int(val_ratio * len(images))\n",
    "\n",
    "        train_images = images[:train_split]\n",
    "        val_images = images[train_split:train_split + val_split]\n",
    "        test_images = images[train_split + val_split:]\n",
    "\n",
    "        # Copy images to respective folders\n",
    "        for split_name, split_images in zip([\"train\", \"val\", \"test\"], [train_images, val_images, test_images]):\n",
    "            split_category_path = os.path.join(output_path, split_name, category)\n",
    "            os.makedirs(split_category_path, exist_ok=True)\n",
    "\n",
    "            for img in split_images:\n",
    "                src_path = os.path.join(category_path, img)\n",
    "                dst_path = os.path.join(split_category_path, img)\n",
    "                shutil.copy(src_path, dst_path)\n",
    "\n",
    "print(\"Dataset split completed successfully!\")\n"
   ]
  }
 ],
 "metadata": {
  "language_info": {
   "name": "python"
  }
 },
 "nbformat": 4,
 "nbformat_minor": 2
}
